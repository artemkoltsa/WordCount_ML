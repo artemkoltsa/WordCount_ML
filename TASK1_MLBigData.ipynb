{
 "cells": [
  {
   "cell_type": "markdown",
   "metadata": {},
   "source": [
    "# Кольца Артем М.19-04\n",
    "\n",
    "## Машинное обучение (2 семестр)\n",
    "\n",
    "### Spark\n",
    "### Подсчет количества слов в книге\n",
    "\n",
    "### Задание №1"
   ]
  },
  {
   "cell_type": "code",
   "execution_count": 1,
   "metadata": {},
   "outputs": [],
   "source": [
    "# Загрузка Spark Context\n",
    "from pyspark import SparkContext\n",
    "from pyspark.sql import SparkSession\n",
    "import re, string\n",
    "\n",
    "sc = SparkContext(\"local\",\"PySpark Word Count\")\n",
    "text_file = sc.textFile('451_fahrenheit.txt')"
   ]
  },
  {
   "cell_type": "code",
   "execution_count": 2,
   "metadata": {},
   "outputs": [
    {
     "data": {
      "text/plain": [
       "['451 градус по Фаренгейту',\n",
       " 'Рэй Дуглас Брэдбери',\n",
       " '',\n",
       " 'Часть первая. Домашний очаг и саламандра',\n",
       " '']"
      ]
     },
     "execution_count": 2,
     "metadata": {},
     "output_type": "execute_result"
    }
   ],
   "source": [
    "# первые 5 элементов\n",
    "text_file.take(5)"
   ]
  },
  {
   "cell_type": "code",
   "execution_count": 3,
   "metadata": {},
   "outputs": [
    {
     "data": {
      "text/plain": [
       "'!\"#$%&\\'()*+,-./:;<=>?@[\\\\]^_`{|}~'"
      ]
     },
     "execution_count": 3,
     "metadata": {},
     "output_type": "execute_result"
    }
   ],
   "source": [
    "# пунктуация\n",
    "string.punctuation"
   ]
  },
  {
   "cell_type": "code",
   "execution_count": 4,
   "metadata": {},
   "outputs": [],
   "source": [
    "punc = '!\"#$%&\\'()*+,./:;<=>?@[\\\\]^_`{|}~'"
   ]
  },
  {
   "cell_type": "code",
   "execution_count": 5,
   "metadata": {},
   "outputs": [],
   "source": [
    "def clean_str(x):\n",
    "    lower_str = x.lower()\n",
    "    lowercased = lower_str.replace('--',' ')\n",
    "    clean_str = lowercased.translate(punc) # чистка от пунктуации\n",
    "    return clean_str"
   ]
  },
  {
   "cell_type": "code",
   "execution_count": 7,
   "metadata": {},
   "outputs": [
    {
     "data": {
      "text/plain": [
       "['451 градус по фаренгейту',\n",
       " 'рэй дуглас брэдбери',\n",
       " '',\n",
       " 'часть первая. домашний очаг и саламандра',\n",
       " '']"
      ]
     },
     "execution_count": 7,
     "metadata": {},
     "output_type": "execute_result"
    }
   ],
   "source": [
    "book = text_file.map(lambda x: clean_str(x))\n",
    "book.take(5)"
   ]
  },
  {
   "cell_type": "code",
   "execution_count": 8,
   "metadata": {},
   "outputs": [
    {
     "data": {
      "text/plain": [
       "[['451', 'градус', 'по', 'фаренгейту'],\n",
       " ['рэй', 'дуглас', 'брэдбери'],\n",
       " [],\n",
       " ['часть', 'первая.', 'домашний', 'очаг', 'и', 'саламандра'],\n",
       " []]"
      ]
     },
     "execution_count": 8,
     "metadata": {},
     "output_type": "execute_result"
    }
   ],
   "source": [
    "book = text_file.map(lambda x: clean_str(x).split())\n",
    "# разделение элементов в массивы\n",
    "book.take(5)"
   ]
  },
  {
   "cell_type": "code",
   "execution_count": 9,
   "metadata": {},
   "outputs": [
    {
     "data": {
      "text/plain": [
       "['451', 'градус', 'по', 'фаренгейту', 'рэй']"
      ]
     },
     "execution_count": 9,
     "metadata": {},
     "output_type": "execute_result"
    }
   ],
   "source": [
    "book_clean = text_file.flatMap(lambda x: clean_str(x).split())\n",
    "# убраны пустые массивы\n",
    "book_clean.take(5)"
   ]
  },
  {
   "cell_type": "code",
   "execution_count": 10,
   "metadata": {},
   "outputs": [
    {
     "data": {
      "text/plain": [
       "[('451', 1), ('градус', 1), ('по', 1), ('фаренгейту', 1), ('рэй', 1)]"
      ]
     },
     "execution_count": 10,
     "metadata": {},
     "output_type": "execute_result"
    }
   ],
   "source": [
    "book_clean = text_file.flatMap(lambda x: clean_str(x).split())\n",
    "book_word_counts = book_clean.map(lambda x: (x,1))\n",
    "# подсчет каждого слова в книге\n",
    "book_word_counts.take(5)"
   ]
  },
  {
   "cell_type": "code",
   "execution_count": 11,
   "metadata": {},
   "outputs": [
    {
     "data": {
      "text/plain": [
       "[('451', 2),\n",
       " ('градус', 1),\n",
       " ('по', 59),\n",
       " ('фаренгейту', 1),\n",
       " ('рэй', 1),\n",
       " ('дуглас', 1),\n",
       " ('брэдбери', 1),\n",
       " ('часть', 3),\n",
       " ('первая.', 1),\n",
       " ('домашний', 1),\n",
       " ('очаг', 1),\n",
       " ('и', 372),\n",
       " ('саламандра', 1),\n",
       " ('жечь', 1),\n",
       " ('было', 46)]"
      ]
     },
     "execution_count": 11,
     "metadata": {},
     "output_type": "execute_result"
    }
   ],
   "source": [
    "book_clean = text_file.flatMap(lambda x: clean_str(x).split())\n",
    "book_word_counts = book_clean.map(lambda x: (x,1))\n",
    "book_word_counts = book_word_counts.reduceByKey(lambda x,y: x + y)\n",
    "book_word_counts.take(15)"
   ]
  },
  {
   "cell_type": "code",
   "execution_count": 12,
   "metadata": {},
   "outputs": [
    {
     "data": {
      "text/plain": [
       "[(610, '–'),\n",
       " (372, 'и'),\n",
       " (323, 'в'),\n",
       " (246, 'не'),\n",
       " (190, 'на'),\n",
       " (150, 'он'),\n",
       " (124, 'что'),\n",
       " (100, 'с'),\n",
       " (99, 'я'),\n",
       " (91, 'она'),\n",
       " (90, 'а'),\n",
       " (89, 'как'),\n",
       " (78, 'это'),\n",
       " (77, 'его'),\n",
       " (70, 'монтаг')]"
      ]
     },
     "execution_count": 12,
     "metadata": {},
     "output_type": "execute_result"
    }
   ],
   "source": [
    "book_word_counts = book_word_counts.map(lambda x:(x[1],x[0]))\n",
    "# первые 15 слов с сортировкой по убыванию\n",
    "book_word_counts.sortByKey(False).take(15)"
   ]
  },
  {
   "cell_type": "code",
   "execution_count": null,
   "metadata": {},
   "outputs": [],
   "source": []
  }
 ],
 "metadata": {
  "kernelspec": {
   "display_name": "Python 3",
   "language": "python",
   "name": "python3"
  },
  "language_info": {
   "codemirror_mode": {
    "name": "ipython",
    "version": 3
   },
   "file_extension": ".py",
   "mimetype": "text/x-python",
   "name": "python",
   "nbconvert_exporter": "python",
   "pygments_lexer": "ipython3",
   "version": "3.7.3"
  }
 },
 "nbformat": 4,
 "nbformat_minor": 4
}
